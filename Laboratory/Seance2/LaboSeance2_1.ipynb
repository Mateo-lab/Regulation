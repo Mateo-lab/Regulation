{
 "cells": [
  {
   "attachments": {},
   "cell_type": "markdown",
   "metadata": {},
   "source": [
    "# Séance 2 - Identification d'un système"
   ]
  },
  {
   "attachments": {},
   "cell_type": "markdown",
   "metadata": {},
   "source": [
    "## Objectifs du notebook\n",
    "- **Identifier** la fonction de transfert d'un système à partir de sa réponse indicielle"
   ]
  },
  {
   "attachments": {},
   "cell_type": "markdown",
   "metadata": {},
   "source": [
    "## Identification graphique d'un système\n",
    "\n",
    "**À toi de jouer !**\n",
    "\n",
    "Suite aux explications données oralement, identifie les systèmes qui suivent\n"
   ]
  },
  {
   "attachments": {},
   "cell_type": "markdown",
   "metadata": {},
   "source": [
    "### Réponse indicielle n°1\n",
    "\n",
    "Dans ce dossier, se trouve plusieurs fichiers html présentant des réponses indicielles interactives. Pour commencer, ouvre via l'explorateur de fichier de ton ordinateur (=> pas celui de VS Code) le fichier suivant : `StepNoised_1.html`"
   ]
  },
  {
   "attachments": {},
   "cell_type": "markdown",
   "metadata": {},
   "source": [
    "De quel ordre est ce système ? Pourquoi ?\n",
    "\n",
    "Quels sont ses paramètres ?\n",
    "\n",
    "*[Note directement tes observations dans la cellule Markdown qui suit et appuie sur CTRL+Enter pour valider]*"
   ]
  },
  {
   "cell_type": "markdown",
   "metadata": {},
   "source": []
  },
  {
   "attachments": {},
   "cell_type": "markdown",
   "metadata": {},
   "source": [
    "### Réponse indicielle n°2\n",
    "\n",
    "À présent, ouvre le fichier suivant : `StepNoised_2.html`"
   ]
  },
  {
   "cell_type": "markdown",
   "metadata": {},
   "source": [
    "De quel ordre est ce système ? Pourquoi ?\n",
    "\n",
    "Quels sont ses paramètres ?\n",
    "\n",
    "*[Note directement tes observations dans la cellule Markdown qui suit et appuie sur CTRL+Enter pour valider]*"
   ]
  },
  {
   "attachments": {},
   "cell_type": "markdown",
   "metadata": {},
   "source": []
  },
  {
   "attachments": {},
   "cell_type": "markdown",
   "metadata": {},
   "source": [
    "### Réponse indicielle n°3\n",
    "\n",
    "À présent, ouvre le fichier suivant : `StepNoised_3.html`"
   ]
  },
  {
   "attachments": {},
   "cell_type": "markdown",
   "metadata": {},
   "source": [
    "De quel ordre est ce système ? Pourquoi ?\n",
    "\n",
    "Quels sont ses paramètres ?\n",
    "\n",
    "*[Note directement tes observations dans la cellule Markdown qui suit et appuie sur CTRL+Enter pour valider]*"
   ]
  },
  {
   "attachments": {},
   "cell_type": "markdown",
   "metadata": {},
   "source": []
  }
 ],
 "metadata": {
  "kernelspec": {
   "display_name": "Python 3 (ipykernel)",
   "language": "python",
   "name": "python3"
  },
  "language_info": {
   "codemirror_mode": {
    "name": "ipython",
    "version": 3
   },
   "file_extension": ".py",
   "mimetype": "text/x-python",
   "name": "python",
   "nbconvert_exporter": "python",
   "pygments_lexer": "ipython3",
   "version": "3.12.1"
  },
  "vscode": {
   "interpreter": {
    "hash": "524ac38120057a6aa971a3f7ce101e27fb8f65e9a4fdffbbd427a1b93d710484"
   }
  }
 },
 "nbformat": 4,
 "nbformat_minor": 2
}
