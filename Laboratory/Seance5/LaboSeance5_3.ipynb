{
 "cells": [
  {
   "attachments": {},
   "cell_type": "markdown",
   "metadata": {},
   "source": [
    "# Séance 5 - Dimensionnement d'un correcteur PID pour réguler la vitesse de rotation d'une éolienne"
   ]
  },
  {
   "attachments": {},
   "cell_type": "markdown",
   "metadata": {},
   "source": [
    "## Objectifs du notebook\n",
    "- Déterminer les paramètres d'un correcteur PID afin de répondre aux critères d'un cahier des charges pour réguler le comportement d'une éolienne."
   ]
  },
  {
   "cell_type": "code",
   "execution_count": 1,
   "metadata": {},
   "outputs": [],
   "source": [
    "from IPython.display import Image, display, Markdown # Package to work with Jupyter notebooks\n",
    "from ipywidgets import interact, FloatSlider, HBox # Widget package for adding interactivity\n",
    "from control import matlab as ml  # Python Control Systems Toolbox (compatibility with MATLAB)\n",
    "import numpy as np              # Package to manipulate array and matrix\n",
    "import matplotlib.pyplot as plt # Package to create figures and plots\n",
    "import math # Package to be able to do some mathematical operations\n",
    "import sys  # Package to be able to import local packages\n",
    "import os   # Package to interact with the operating system\n",
    "sys.path.append(os.path.dirname(os.path.dirname(os.getcwd()))) # Add the current path to the system path to be able to import custom local packages\n",
    "from regulabfct import ReguLabFct as rlf # Package useful for the regulation course of HELMo Gramme"
   ]
  },
  {
   "cell_type": "markdown",
   "metadata": {},
   "source": [
    "## Régulation d'une éolienne\n",
    "\n",
    "Nous voyons des champs d'éoliennes apparaître un peu partout dans le paysage. Néanmoins, ce moyen de production d'énergie verte dépend du vent qui est fortement irrégulier au niveau de sa puissance et de sa direction, alors qu'il est souhaitable de maintenir une vitesse de rotation du générateur électrique qu'elle contient constante afin de disposer d'une énergie électrique fiable et régulière. Afin de réussir à parvenir à cet objectif du mieux possible, on a recours à des systèmes de contrôle dont l'objectif est de réduire les effets de l'intermittence du vent et de ses changements de direction. Ceux-ci reposent sur l'ajustement de l'angle d'inclinaison des pales (appelé plus couramment *pitch*) afin de maintenir une vitesse de rotation constante.\n",
    "\n",
    "Un modèle linéarisé de la vitesse de rotation d'un générateur en fonction du *pitch* des pales d'une éolienne est donné par :\n",
    "\n",
    "$$H = \\frac{4.2158(s-827.1)(s^2-5.489s+194.4)}{(s+0.195)(s^2+0.101s+482.6)}$$\n",
    "\n",
    "Ce modèle correspond à celui d'une éolienne de 600 kW possédant une hauteur de 36,6 m, un diamètre de rotor de 40 m, une vitesse nominale de rotation du rotor de 41,7 tr/min, une vitesse nominale de rotation du générateur de 1800 tr/min et une vitesse d'inclinaison de pale de 18,7 °/s.\n",
    "\n",
    "> Observe la stabilité du système en traçant la position de ses pôles et zéros à l'aide de la fonction `pzmap` ainsi que sa réponse fréquentielle avec le diagramme de Nichols.\n",
    "\n",
    "> Écris ton code pour réaliser cela dans la cellule suivante.\n"
   ]
  },
  {
   "cell_type": "code",
   "execution_count": 2,
   "metadata": {},
   "outputs": [],
   "source": [
    "# [À compléter par toi !]"
   ]
  },
  {
   "cell_type": "markdown",
   "metadata": {},
   "source": [
    "## Simplification du modèle\n",
    "\n",
    "Comme on peut le voir dans le plan complexe de Laplace, bien que le modèle soit instable suite à ses zéros à partie réelle positives, ceux-ci sont fortement dominés par un pôle présentant une constante de temps nettement plus grande (beaucoup plus que 3-4 fois plus grande). Dès lors, leur impact n'a d'effet que très peu de temps au début du régime transitoire et peut probablement être ignoré. Nous pouvons donc simplifier notre modèle par un modèle du premier ordre qui soit stable en se limitant à son pôle dominant. Nous obtenons ainsi la fonction de transfert simplifiée suivante :\n",
    "\n",
    "$$\\frac{K}{\\tau \\cdot s + 1} \\quad \\text{avec} \\quad \\begin{cases} \n",
    "K = \\frac{4.2158 \\cdot (-827.1) \\cdot 194.4}{0.195 \\cdot 482.6} \\approx -7200\\\\ \n",
    "\\tau = \\frac{1}{0.195} \\approx 5\n",
    "\\end{cases}$$\n",
    "\n",
    "***ATTENTION :*** Bien que nous simplifions le système à l'impact de son pôle dominant, nous devons prendre en compte les impacts des différents gains statiques du modèle complet !\n",
    "\n",
    "> Dimensionne le correcteur qu'il faudrait pour assurer une **erreur de position nulle** tout en assurant un temps de stabilisation $(t_{s_{5\\%}})$ inférieur à **1 seconde** et un **dépassement relatif inférieur à 25%**.\n",
    "\n",
    "> Afin de vérifier le bon fonctionnement du correcteur que tu as dimensionné, compare le tracé de la réponse indicielle du système simplifié avec celle du modèle complet.\n"
   ]
  },
  {
   "cell_type": "code",
   "execution_count": 7,
   "metadata": {},
   "outputs": [],
   "source": [
    "# [À compléter par toi !]"
   ]
  }
 ],
 "metadata": {
  "kernelspec": {
   "display_name": "Python 3 (ipykernel)",
   "language": "python",
   "name": "python3"
  },
  "language_info": {
   "codemirror_mode": {
    "name": "ipython",
    "version": 3
   },
   "file_extension": ".py",
   "mimetype": "text/x-python",
   "name": "python",
   "nbconvert_exporter": "python",
   "pygments_lexer": "ipython3",
   "version": "3.12.1"
  },
  "vscode": {
   "interpreter": {
    "hash": "524ac38120057a6aa971a3f7ce101e27fb8f65e9a4fdffbbd427a1b93d710484"
   }
  }
 },
 "nbformat": 4,
 "nbformat_minor": 2
}
