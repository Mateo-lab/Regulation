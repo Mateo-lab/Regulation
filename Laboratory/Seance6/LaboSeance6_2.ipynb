{
 "cells": [
  {
   "attachments": {},
   "cell_type": "markdown",
   "metadata": {},
   "source": [
    "# Séance 6 - Dimensionnement d'un correcteur PID d'un système en cascade"
   ]
  },
  {
   "attachments": {},
   "cell_type": "markdown",
   "metadata": {},
   "source": [
    "## Objectifs du notebook\n",
    "- Déterminer les paramètres d'un correcteur PID afin de répondre aux critères d'un cahier des charges pour réguler le niveau d'eau d'une cuve."
   ]
  },
  {
   "cell_type": "code",
   "execution_count": 1,
   "metadata": {},
   "outputs": [],
   "source": [
    "from IPython.display import Image, display, Markdown # Package to work with Jupyter notebooks\n",
    "from ipywidgets import interact, FloatSlider, HBox # Widget package for adding interactivity\n",
    "from control import matlab as ml  # Python Control Systems Toolbox (compatibility with MATLAB)\n",
    "import numpy as np              # Package to manipulate array and matrix\n",
    "import matplotlib.pyplot as plt # Package to create figures and plots\n",
    "import math # Package to be able to do some mathematical operations\n",
    "import sys  # Package to be able to import local packages\n",
    "import os   # Package to interact with the operating system\n",
    "sys.path.append(os.path.dirname(os.path.dirname(os.getcwd()))) # Add the current path to the system path to be able to import custom local packages\n",
    "from regulabfct import ReguLabFct as rlf # Package useful for the regulation course of HELMo Gramme"
   ]
  },
  {
   "attachments": {},
   "cell_type": "markdown",
   "metadata": {},
   "source": [
    "## Régulation de niveau\n",
    "\n",
    "### Données du problème"
   ]
  },
  {
   "cell_type": "code",
   "execution_count": 2,
   "metadata": {},
   "outputs": [],
   "source": [
    "S = 0.5 # Section du bac [m^2]\n",
    "k_c = 20 # Coefficient du capteur de niveau [V/m]\n",
    "K_mot = 0.5 # Gain statique du moteur [rad/s/V]\n",
    "tau_mot = 0.1 # Contante de temps du moteur [s]\n",
    "k_p_consigne = 20 # Coefficent du potentiomètre de consigne[V/m]\n",
    "k_p_pos = 1 # Coefficient du potentiomètre de mesure de la position de la vanne [V/rad]\n",
    "n = 20 # Rapport du réducteur [/]\n",
    "k_v = 0.1 # Coefficient de débit de la vanne [m^3/s/rad]"
   ]
  },
  {
   "attachments": {},
   "cell_type": "markdown",
   "metadata": {},
   "source": [
    "### $H_1$\n",
    "\n",
    "> Trouve la valeur de $C_2(s)$ et écris le code nécessaire pour tracer la réponse indicielle du système $H_1$."
   ]
  },
  {
   "cell_type": "code",
   "execution_count": 5,
   "metadata": {},
   "outputs": [],
   "source": [
    "# Ecris ton code ici."
   ]
  },
  {
   "attachments": {},
   "cell_type": "markdown",
   "metadata": {},
   "source": [
    "### Fonction de transfert de la régulation de niveau\n",
    "\n",
    "> Trouve la valeur de $C_1(s)$ et écris le code nécessaire pour tracer la réponse indicielle du système global $H_{tot}$."
   ]
  },
  {
   "cell_type": "code",
   "execution_count": 6,
   "metadata": {},
   "outputs": [],
   "source": [
    "# Ecris ton code ici."
   ]
  },
  {
   "attachments": {},
   "cell_type": "markdown",
   "metadata": {},
   "source": [
    "### Dimensionnement de $C_1$ pour $D_\\%= 10\\%$"
   ]
  },
  {
   "attachments": {},
   "cell_type": "markdown",
   "metadata": {},
   "source": [
    "#### Analyse des pôles"
   ]
  },
  {
   "cell_type": "code",
   "execution_count": 7,
   "metadata": {},
   "outputs": [],
   "source": [
    "# Ecris ton code ici pour analyser la position des pôles."
   ]
  },
  {
   "attachments": {},
   "cell_type": "markdown",
   "metadata": {},
   "source": [
    "#### Dimensionnement par placement fréquentiel pour une marge de gain\n",
    "\n",
    "Si $M_G=11$ dB"
   ]
  },
  {
   "cell_type": "code",
   "execution_count": 12,
   "metadata": {},
   "outputs": [],
   "source": [
    "# Ecris ton code ici pour dimensionner un correcteur assurant un système présentant une marge de gain de 11 dB\n",
    "# et vérifier si cette marge de gain est suffisante pour assurer un dépassement inférieur à 10%."
   ]
  },
  {
   "attachments": {},
   "cell_type": "markdown",
   "metadata": {},
   "source": [
    "Si $M_G=12$ dB"
   ]
  },
  {
   "cell_type": "code",
   "execution_count": 11,
   "metadata": {},
   "outputs": [],
   "source": [
    "# Ecris ton code ici pour dimensionner un correcteur assurant un système présentant une marge de gain de 12 dB\n",
    "# et vérifier si cette marge de gain est suffisante pour assurer un dépassement inférieur à 10%."
   ]
  }
 ],
 "metadata": {
  "kernelspec": {
   "display_name": "Python 3 (ipykernel)",
   "language": "python",
   "name": "python3"
  },
  "language_info": {
   "codemirror_mode": {
    "name": "ipython",
    "version": 3
   },
   "file_extension": ".py",
   "mimetype": "text/x-python",
   "name": "python",
   "nbconvert_exporter": "python",
   "pygments_lexer": "ipython3",
   "version": "3.12.2"
  },
  "vscode": {
   "interpreter": {
    "hash": "524ac38120057a6aa971a3f7ce101e27fb8f65e9a4fdffbbd427a1b93d710484"
   }
  }
 },
 "nbformat": 4,
 "nbformat_minor": 2
}
