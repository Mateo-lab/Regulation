{
 "cells": [
  {
   "cell_type": "markdown",
   "id": "0bfb8c47-f501-4a77-beb1-c656ce82e0d4",
   "metadata": {},
   "source": [
    "# Séance 7"
   ]
  },
  {
   "cell_type": "markdown",
   "id": "579f62cc-2fff-4ded-a326-35d734fddaf2",
   "metadata": {
    "tags": []
   },
   "source": [
    "## Objectif du notebook\n",
    "\n",
    "- Vérifier ce qui a été appris durant les séances précédentes en résolvant un exercice récapitulatif de type examen."
   ]
  },
  {
   "cell_type": "code",
   "execution_count": null,
   "id": "7aa8f37e-e25f-4728-91d2-388d5dbdd333",
   "metadata": {
    "tags": [
     "remove-cell"
    ]
   },
   "outputs": [],
   "source": [
    "from IPython.display import Image, display, Markdown # Package to work with Jupyter notebooks\n",
    "from ipywidgets import interact, FloatSlider, HBox # Widget package for adding interactivity\n",
    "from control import matlab as ml  # Python Control Systems Toolbox (compatibility with MATLAB)\n",
    "import numpy as np              # Package to manipulate array and matrix\n",
    "import matplotlib.pyplot as plt # Package to create figures and plots\n",
    "import math # Package to be able to do some mathematical operations\n",
    "import sys  # Package to be able to import local packages\n",
    "import os   # Package to interact with the operating system\n",
    "sys.path.append(os.path.dirname(os.path.dirname(os.getcwd()))) # Add the current path to the system path to be able to import custom local packages\n",
    "from regulabfct import ReguLabFct as rlf # Package useful for the regulation course of HELMo Gramme"
   ]
  },
  {
   "cell_type": "markdown",
   "id": "9111267e-8860-453f-b5cb-423cf4e0c636",
   "metadata": {
    "tags": []
   },
   "source": [
    "## Exercice type examen\n",
    "\n",
    "Soit le système asservi à retour unitaire suivant:"
   ]
  },
  {
   "cell_type": "markdown",
   "id": "c7fdc9db",
   "metadata": {},
   "source": [
    "<!DOCTYPE html><html><head><meta name=\"viewport\" content=\"width=device-width, initial-scale=1\"><style>img{display: block; margin-left: auto; margin-right: auto;}</style></head><body><img src='data:image/bmp;base64,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'];function LoadImagesAndRender(){var loadedImages=0;for(var i=0;i<images.length;i++){var source=images[i];images[i]=new Image();images[i].src=source;images[i].onload=function(){loadedImages++;if (loadedImages==images.length){Render();}};}}function Render(){let a=document.getElementById('4ac8c83300054494b4a580f4af493e70');let b=a.getContext('2d');a.width=850;a.height=210;b.drawImage(images[0],0,0,850,210,0,0,850,210);}window.addEventListener('onload',LoadImagesAndRender());alt=\"PID parallele form\" style=\"max-width:100%;\"></body></html>"
   ]
  },
  {
   "cell_type": "markdown",
   "id": "0045e704",
   "metadata": {},
   "source": [
    "### I.\n",
    "\n",
    "Donnez les caractéristiques de performances typiques associées à sa réponse en boucle fermée si $K=20$.\n",
    "\n",
    "(Précisez les relations, abaques et/ou calculs pour les obtenir **ET** vous validerez vos résultats à l’aide de l’affichage des réponses ad hoc via Python)"
   ]
  },
  {
   "cell_type": "markdown",
   "id": "e78486a3",
   "metadata": {},
   "source": [
    "> Note dans la cellule Makdown suivante les valeurs de $\\zeta$ et $\\omega_n$"
   ]
  },
  {
   "cell_type": "markdown",
   "id": "cc811415",
   "metadata": {},
   "source": []
  },
  {
   "cell_type": "markdown",
   "id": "b2013267-6552-46de-bdbb-b440327e71a3",
   "metadata": {},
   "source": [
    "- Erreur si le système est excité par une entrée de type échelon :"
   ]
  },
  {
   "cell_type": "markdown",
   "id": "c636e9a9",
   "metadata": {},
   "source": [
    "> Note dans la cellule Makdown suivante cette valeur trouvée par calcul."
   ]
  },
  {
   "cell_type": "markdown",
   "id": "939756ac",
   "metadata": {},
   "source": []
  },
  {
   "cell_type": "code",
   "execution_count": null,
   "id": "5e4f0365-17b0-452b-b451-d649116677a3",
   "metadata": {
    "tags": [
     "hide-cell",
     "remove-input"
    ]
   },
   "outputs": [],
   "source": [
    "# Ecris ici le code python pour vérifier cette valeur."
   ]
  },
  {
   "cell_type": "markdown",
   "id": "27d79a17-6e4c-4808-b390-a12cfd5ce8dd",
   "metadata": {},
   "source": [
    "- Erreur si le système est excité par une entrée de type rampe :"
   ]
  },
  {
   "cell_type": "markdown",
   "id": "6faf54e1",
   "metadata": {},
   "source": [
    "> Note dans la cellule Makdown suivante cette valeur trouvée par calcul."
   ]
  },
  {
   "cell_type": "markdown",
   "id": "c9a7e17a",
   "metadata": {},
   "source": []
  },
  {
   "cell_type": "code",
   "execution_count": null,
   "id": "c5f965a6-9a8f-4d26-a527-09aa51e66127",
   "metadata": {
    "tags": [
     "hide-cell",
     "remove-input"
    ]
   },
   "outputs": [],
   "source": [
    "# Ecris ici le code python pour vérifier cette valeur."
   ]
  },
  {
   "cell_type": "markdown",
   "id": "38f31180-4779-48f4-9404-f45020abff64",
   "metadata": {},
   "source": [
    "- Temps de réponse à 5% si le système est excité par une entrée de type échelon :"
   ]
  },
  {
   "cell_type": "markdown",
   "id": "2a496393",
   "metadata": {},
   "source": [
    "> Note dans la cellule Makdown suivante cette valeur trouvée par calcul."
   ]
  },
  {
   "cell_type": "markdown",
   "id": "70154de3",
   "metadata": {},
   "source": []
  },
  {
   "cell_type": "code",
   "execution_count": null,
   "id": "3b6d2b86-4785-4973-a013-fbd208ea2acd",
   "metadata": {
    "tags": [
     "hide-cell",
     "remove-input"
    ]
   },
   "outputs": [],
   "source": [
    "# Ecris ici le code python pour vérifier cette valeur."
   ]
  },
  {
   "cell_type": "markdown",
   "id": "128baaa9-2827-4eb0-a858-7b1096cce66f",
   "metadata": {},
   "source": [
    "- Amplitude en valeur absolue et instant du premier dépassement si le système est excité par une entrée de type échelon qui passe de 1 V à 3 V afin de vérifier si une tension d’alimentation de 5 V est possible :"
   ]
  },
  {
   "cell_type": "markdown",
   "id": "44a43f64",
   "metadata": {},
   "source": [
    "> Note dans la cellule Makdown suivante ces valeurs trouvées par calcul."
   ]
  },
  {
   "cell_type": "markdown",
   "id": "51011edf",
   "metadata": {},
   "source": []
  },
  {
   "cell_type": "code",
   "execution_count": null,
   "id": "4625dcbf-56ad-4ba4-8dc0-9827f7acb773",
   "metadata": {
    "tags": [
     "hide-cell",
     "remove-input"
    ]
   },
   "outputs": [],
   "source": [
    "# Ecris ici le code python pour vérifier ces valeurs."
   ]
  },
  {
   "cell_type": "markdown",
   "id": "9c4c593b-1476-4d8d-9dc0-cf7fe36864ed",
   "metadata": {},
   "source": [
    "### II.\n",
    "\n",
    "Proposez un choix de valeurs pour les paramètres et donc pour $K$ qui permette de respecter une **marge de phase de 60°** et vérifiez que dans ces conditions, le **dépassement** est bien ramené **inférieur à 20 %** :"
   ]
  },
  {
   "cell_type": "code",
   "execution_count": null,
   "id": "e3b0bb82-068b-405d-ab35-69555f0e4b8e",
   "metadata": {
    "tags": [
     "hide-cell",
     "remove-input"
    ]
   },
   "outputs": [],
   "source": [
    "# Ecris ici le code python pour déterminer la valeur de K."
   ]
  },
  {
   "cell_type": "markdown",
   "id": "90bf3aba-bd36-4bdd-a787-e3ce600a11c2",
   "metadata": {},
   "source": [
    "### III.\n",
    "\n",
    "Dimensionnez un correcteur qui permette d’assurer une erreur de vitesse limitée à 1 % (tout en garantissant que le dépassement reste limité à 20 % pour la réponse indicielle) :\n",
    "\n",
    "- Type de correcteur : P, PI, PD ou PID ?"
   ]
  },
  {
   "cell_type": "markdown",
   "id": "8057a363-f3a4-436c-bbb0-f1547d28ee9a",
   "metadata": {
    "tags": []
   },
   "source": [
    "> Note dans la cellule Makdown suivante le correcteur à dimensionner."
   ]
  },
  {
   "cell_type": "markdown",
   "id": "ed428144",
   "metadata": {},
   "source": []
  },
  {
   "cell_type": "markdown",
   "id": "ed1b1732-7abc-4ff3-8e57-5fde0e18ff93",
   "metadata": {},
   "source": [
    "- Dimensionnement :"
   ]
  },
  {
   "cell_type": "code",
   "execution_count": null,
   "id": "f2608741-6c08-4c4d-be27-b6821c957d10",
   "metadata": {
    "tags": [
     "remove-input",
     "hide-cell"
    ]
   },
   "outputs": [],
   "source": [
    "# Ecris ici le code permettant de dimensionner le correcteur permettant de répondre au chaier des charges."
   ]
  }
 ],
 "metadata": {
  "kernelspec": {
   "display_name": "Python 3 (ipykernel)",
   "language": "python",
   "name": "python3"
  },
  "language_info": {
   "codemirror_mode": {
    "name": "ipython",
    "version": 3
   },
   "file_extension": ".py",
   "mimetype": "text/x-python",
   "name": "python",
   "nbconvert_exporter": "python",
   "pygments_lexer": "ipython3",
   "version": "3.12.1"
  }
 },
 "nbformat": 4,
 "nbformat_minor": 5
}
